{
 "cells": [
  {
   "cell_type": "code",
   "execution_count": null,
   "metadata": {},
   "outputs": [],
   "source": [
    "###############################################################################\n",
    "###\n",
    "### Path Loader\n",
    "### This file is part of Snippets\n",
    "### This file was created by Dr Daniel Parker \n",
    "###    Twitter: @DrDanParker     GitHub:https://github.com/DrDanParker \n",
    "###     \n",
    "### Code adapted from Stack Overflow User Droogans  \n",
    "### Source: https://stackoverflow.com/a/10038074/6922652\n",
    "###\n",
    "###############################################################################\n",
    "\n",
    "import sys, os.path, pprint\n",
    "\n",
    "def all_from(folder='', abspath=None):\n",
    "    \"\"\"add all dirs under `folder` to sys.path if any .py files are found.\n",
    "    Use an abspath if you'd rather do it that way.\n",
    "\n",
    "    Uses the current working directory as the location of using.py. \n",
    "    Keep in mind that os.walk goes *all the way* down the directory tree.\n",
    "    With that, try not to use this on something too close to '/'\n",
    "\n",
    "    \"\"\"\n",
    "    add = set(sys.path)\n",
    "    if abspath is None:\n",
    "        cwd = os.path.abspath(os.path.curdir)\n",
    "        abspath = os.path.join(cwd, folder)\n",
    "    for root, dirs, files in os.walk(abspath):\n",
    "        \n",
    "        for f in files:\n",
    "            (fileBaseName, fileExtension)=os.path.splitext(f)\n",
    "            if fileExtension == '.ipynb':\n",
    "                add.add(root)\n",
    "                break\n",
    "            elif fileExtension == '.py':\n",
    "                add.add(root)\n",
    "                break\n",
    "    for i in add: sys.path.append(i)"
   ]
  },
  {
   "cell_type": "code",
   "execution_count": null,
   "metadata": {},
   "outputs": [],
   "source": [
    "all_from('py') #if in ~, /home/user/py/\n",
    "pprint.pprint(sys.path)"
   ]
  }
 ],
 "metadata": {
  "kernelspec": {
   "display_name": "Python 3",
   "language": "python",
   "name": "python3"
  },
  "language_info": {
   "codemirror_mode": {
    "name": "ipython",
    "version": 3
   },
   "file_extension": ".py",
   "mimetype": "text/x-python",
   "name": "python",
   "nbconvert_exporter": "python",
   "pygments_lexer": "ipython3",
   "version": "3.6.3"
  }
 },
 "nbformat": 4,
 "nbformat_minor": 2
}
