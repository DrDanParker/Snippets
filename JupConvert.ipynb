{
 "cells": [
  {
   "cell_type": "code",
   "execution_count": null,
   "metadata": {
    "collapsed": true
   },
   "outputs": [],
   "source": [
    "import IPython.nbformat.current as nbf\n",
    "\n",
    "def convertPy(file):\n",
    "    nb = nbf.read(open(file, 'r'), 'py')\n",
    "    (fileBaseName, fileExtension)=os.path.splitext(file_List[i])\n",
    "    outfile = fileBaseName+'.ipynb'\n",
    "    nbf.write(nb, open(outfile, 'w'), 'ipynb')\n",
    "    print('File Converted to Jupyter: '+outfile)"
   ]
  }
 ],
 "metadata": {
  "kernelspec": {
   "display_name": "Python 3",
   "language": "python",
   "name": "python3"
  },
  "language_info": {
   "codemirror_mode": {
    "name": "ipython",
    "version": 3
   },
   "file_extension": ".py",
   "mimetype": "text/x-python",
   "name": "python",
   "nbconvert_exporter": "python",
   "pygments_lexer": "ipython3",
   "version": "3.6.3"
  }
 },
 "nbformat": 4,
 "nbformat_minor": 2
}
